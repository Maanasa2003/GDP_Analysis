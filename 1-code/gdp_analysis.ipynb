{
 "cells": [
  {
   "cell_type": "markdown",
   "id": "bc99c11a",
   "metadata": {},
   "source": [
    "# Content\n",
    "- <a href='#1'>1. Introduction</a>\n",
    "- <a href='#2'>2. Load Libraries</a>\n",
    "- <a href='#3'>3. Overview Of The Table</a>\n",
    "- <a href='#4'>4. Data Preparation</a>\n",
    "- <a href='#5'>5. Data Exploration</a>\n",
    "    - <a href='#5-1'>5.1 Top countries With Highest GDP</a>\n",
    "    - <a href='#5-2'>5.2 Correlation Between Variables</a>\n",
    "    - <a href='#5-3'>5.3 Top Factors Affecting GDP</a>\n",
    "    - <a href='#5-4'>5.4 Countries With Low Birthrate & Low GDP</a>\n",
    "- <a href='#6'>6. Modeling</a>\n",
    "    - <a href='#6-1'>6.1 Training & Testing</a>\n",
    "    - <a href='#6-2'>6.2 Visualization Of Results</a>\n",
    "- <a href='#7'>7. Total GDP</a>\n",
    "    - <a href='#7-1'>7.1 Top Countires</a>\n",
    "    - <a href='#7-1'>7.2 Factors Affecting Total GDP</a>\n",
    "    - <a href='#7-2'>7.3 Comparison Of The Top 10</a>\n",
    "- <a href='#8'>8. References</a>"
   ]
  },
  {
   "cell_type": "markdown",
   "id": "f0199d2c",
   "metadata": {},
   "source": [
    "# <a id='1'>1. Introduction</a>\n",
    "In this project, I am investigating the dataset containing information on population, region, area size, mortality and more of 227 countries. I will be focusing on the factors that affecting a country's GDP per capita and try to make a model using the data of 227 countries from the dataset. I will also briefly discuss the total GDPs. For me, this is to practice my data science & visualization skills, if you have any suggestion on how to make more extensive analysis please kindly let me know, Any feedback is greatly appreciated!"
   ]
  },
  {
   "cell_type": "markdown",
   "id": "fa3b2a47",
   "metadata": {},
   "source": [
    "# <a id='2'>2. Load Libraries</a>"
   ]
  },
  {
   "cell_type": "code",
   "execution_count": null,
   "metadata": {},
   "outputs": [],
   "source": [
    "import numpy as np # for linear algebra\n",
    "import pandas as pd # for data processing, csv io\n",
    "from matplotlib import pyplot as plt # data plots\n",
    "import seaborn as sns # pretty data plots\n",
    "sns.set()\n",
    "\n",
    "from sklearn.preprocessing import LabelEncoder # for label normalization\n",
    "from sklearn.model_selection import train_test_split # for splitting data into train and test subsets\n",
    "from sklearn.linear_model import LinearRegression # for using Linear Regression model\n",
    "from sklearn.metrics import mean_squared_error, mean_squared_log_error\n",
    "\n",
    "import os\n",
    "print(os.listdir(\"./Datasets\"))"
   ]
  },
  {
   "cell_type": "markdown",
   "id": "c4c809da",
   "metadata": {},
   "source": [
    "# <a id='3'>3. Overview Of The Table</a>"
   ]
  },
  {
   "cell_type": "code",
   "execution_count": null,
   "metadata": {},
   "outputs": [],
   "source": [
    "data = pd.read_csv('./Datasets/Countries-GDP-Data.csv',decimal=',')\n",
    "print('Number of missing data:')\n",
    "print(data.isnull().sum())\n",
    "data.describe(include='all')"
   ]
  },
  {
   "cell_type": "markdown",
   "id": "081329f7",
   "metadata": {},
   "source": [
    "# <a id='4'>4. Data Preparation</a>\n",
    "I noticed that there are some missing data in the table. For simplicity, I will just fill the missing data using the median of the region that a country belongs, as countries that are close geologically are often similar in many ways. For example, lets check the region median of 'GDP ($ per capita)', 'Literacy (%)' and 'Agriculture'. Note that for 'climate' we use the mode instead of median as it seems that 'climate' is a categorical feature here."
   ]
  },
  {
   "cell_type": "code",
   "execution_count": null,
   "id": "66e880a1",
   "metadata": {},
   "outputs": [],
   "source": [
    "data.groupby('Region')[['GDP ($ per capita)','Literacy (%)','Agriculture']].median()"
   ]
  },
  {
   "cell_type": "code",
   "execution_count": null,
   "id": "5afb9598",
   "metadata": {},
   "outputs": [],
   "source": [
    "# Fill up missing values\n",
    "for col in data.columns.values:\n",
    "    if data[col].isnull().sum() == 0:\n",
    "        continue\n",
    "    if col == 'Climate':\n",
    "        guess_values = data.groupby('Region')['Climate'].apply(lambda x: x.mode().max())\n",
    "    else:\n",
    "        guess_values = data.groupby('Region')[col].median()\n",
    "    for region in data['Region'].unique():\n",
    "        data[col].loc[(data[col].isnull())&(data['Region']==region)] = guess_values[region]"
   ]
  },
  {
   "cell_type": "markdown",
   "id": "e98872c9",
   "metadata": {},
   "source": [
    "# <a id='5'>5. Data Exploration</a>"
   ]
  },
  {
   "cell_type": "markdown",
   "id": "50fa5fe0",
   "metadata": {},
   "source": [
    "<a id='5-1'>5.1 Top Countries With Highest GDP</a>\n",
    "\n",
    "Look at the top 20 countries with highest GDP per capita. Luxembourg is quite ahead, the next 19 countries are close to each other. Germany, the 20th has about 2.5 times GDP per capita of the world average."
   ]
  },
  {
   "cell_type": "code",
   "execution_count": null,
   "id": "5d2bc9c8",
   "metadata": {},
   "outputs": [],
   "source": [
    "fig, ax = plt.subplots(figsize=(16,6))\n",
    "#ax = fig.add_subplot(111)\n",
    "top_gdp_countries = data.sort_values('GDP ($ per capita)',ascending=False).head(20)\n",
    "mean = pd.DataFrame({'Country':['World mean'], 'GDP ($ per capita)':[data['GDP ($ per capita)'].mean()]})\n",
    "gdps = pd.concat([top_gdp_countries[['Country','GDP ($ per capita)']],mean],ignore_index=True)\n",
    "\n",
    "sns.barplot(x='Country',y='GDP ($ per capita)',data=gdps, palette='Set3')\n",
    "ax.set_xlabel(ax.get_xlabel(),labelpad=15)\n",
    "ax.set_ylabel(ax.get_ylabel(),labelpad=30)\n",
    "ax.xaxis.label.set_fontsize(16)\n",
    "ax.yaxis.label.set_fontsize(16)\n",
    "plt.xticks(rotation=90)\n",
    "plt.show()"
   ]
  },
  {
   "cell_type": "markdown",
   "id": "6611dcc7",
   "metadata": {},
   "source": [
    "<a id='5-2'>5.2 Correlation between variables</a>\n",
    "\n",
    "The heatmap shows the correlation between all numerical columns."
   ]
  },
  {
   "cell_type": "code",
   "execution_count": null,
   "id": "215fac6c",
   "metadata": {},
   "outputs": [],
   "source": [
    "plt.figure(figsize=(16,12))\n",
    "sns.heatmap(data=data.iloc[:,2:].corr(),annot=True,fmt='.2f',cmap='coolwarm')\n",
    "plt.show()"
   ]
  },
  {
   "cell_type": "markdown",
   "id": "9cb6e02d",
   "metadata": {},
   "source": [
    "<a id='5-2'>5.4 Top Factors Affecting GDP</a>\n",
    "\n",
    "We pick the six columns that mostly correlated to GDP per capita and make scatter plots. The results agree with our common sense. Also we notice there are many countries with low average GDP and few with high average GDP ---- a pyramid structure."
   ]
  },
  {
   "cell_type": "code",
   "execution_count": null,
   "id": "28d2e5dc",
   "metadata": {},
   "outputs": [],
   "source": [
    "fig, axes = plt.subplots(nrows=2, ncols=3, figsize=(20,12))\n",
    "plt.subplots_adjust(hspace=0.4)\n",
    "\n",
    "corr_to_gdp = pd.Series()\n",
    "for col in data.columns.values[2:]:\n",
    "    if ((col!='GDP ($ per capita)')&(col!='Climate')):\n",
    "        corr_to_gdp[col] = data['GDP ($ per capita)'].corr(data[col])\n",
    "abs_corr_to_gdp = corr_to_gdp.abs().sort_values(ascending=False)\n",
    "corr_to_gdp = corr_to_gdp.loc[abs_corr_to_gdp.index]\n",
    "\n",
    "for i in range(2):\n",
    "    for j in range(3):\n",
    "        sns.regplot(x=corr_to_gdp.index.values[i*3+j], y='GDP ($ per capita)', data=data,\n",
    "                   ax=axes[i,j], fit_reg=False, marker='.')\n",
    "        title = 'correlation='+str(corr_to_gdp[i*3+j])\n",
    "        axes[i,j].set_title(title)\n",
    "axes[1,2].set_xlim(0,102)\n",
    "plt.show()"
   ]
  },
  {
   "cell_type": "markdown",
   "id": "6cabbbe2",
   "metadata": {},
   "source": [
    "<a id='5-5'> 5.5 Countries With Low Birthrate & Low GDP</a>\n",
    "\n",
    "Some features, like phones, are related to the average GDP more linearly, while others are not. For example, High birthrate usually means low GDP per capita, but average GDP in low birthrate countries can vary a lot.\n",
    "\n",
    "Let's look at the countries with low birthrate (<14%) and low GDP per capita (<10000 $). They also have hight literacy, like other high average GDP countires. But we hope their other features can help distiguish them from those with low birthrate but high average GDPs, like service are not quite an importent portion in their economy, not a lot phone procession, some have negative net migration... And many of them are from eastern Europe or C.W. of IND. STATES, so the 'region' feature may also be useful."
   ]
  },
  {
   "cell_type": "code",
   "execution_count": null,
   "id": "8debd501",
   "metadata": {},
   "outputs": [],
   "source": [
    "data.loc[(data['Birthrate']<14)&(data['GDP ($ per capita)']<10000)]"
   ]
  },
  {
   "cell_type": "markdown",
   "id": "d4eb6d43",
   "metadata": {},
   "source": [
    "# <a id='6'>6. Modeling</a>"
   ]
  },
  {
   "cell_type": "markdown",
   "id": "7f6abf26",
   "metadata": {},
   "source": [
    "<a id='6-1'> 6.1 Training & Testing </a>\n",
    "\n",
    "First label encode the categorical features 'Region' and 'Climate', and I will just use all features given in the dataset without further feature engineering."
   ]
  },
  {
   "cell_type": "code",
   "execution_count": null,
   "id": "50c9c5dc",
   "metadata": {},
   "outputs": [],
   "source": [
    "LE = LabelEncoder()\n",
    "data['Region_label'] = LE.fit_transform(data['Region'])\n",
    "data['Climate_label'] = LE.fit_transform(data['Climate'])\n",
    "data.head()"
   ]
  },
  {
   "cell_type": "code",
   "execution_count": null,
   "id": "350e6378",
   "metadata": {},
   "outputs": [],
   "source": [
    "train, test = train_test_split(data, test_size=0.3, shuffle=True)\n",
    "training_features = ['Population', 'Area (sq. mi.)',\n",
    "       'Pop. Density (per sq. mi.)', 'Coastline (coast/area ratio)',\n",
    "       'Net migration', 'Infant mortality (per 1000 births)',\n",
    "       'Literacy (%)', 'Phones (per 1000)',\n",
    "       'Arable (%)', 'Crops (%)', 'Other (%)', 'Birthrate',\n",
    "       'Deathrate', 'Agriculture', 'Industry', 'Service', 'Region_label',\n",
    "       'Climate_label','Service']\n",
    "target = 'GDP ($ per capita)'\n",
    "train_X = train[training_features]\n",
    "train_Y = train[target]\n",
    "test_X = test[training_features]\n",
    "test_Y = test[target]"
   ]
  },
  {
   "cell_type": "markdown",
   "id": "2b86f8a2",
   "metadata": {},
   "source": [
    "I am using the linear regression model here. As for metric, I will check both root mean squared error and mean squared log error."
   ]
  },
  {
   "cell_type": "code",
   "execution_count": null,
   "id": "4ddca602",
   "metadata": {},
   "outputs": [],
   "source": [
    "model = LinearRegression()\n",
    "model.fit(train_X, train_Y)\n",
    "train_pred_Y = model.predict(train_X)\n",
    "test_pred_Y = model.predict(test_X)\n",
    "train_pred_Y = pd.Series(train_pred_Y.clip(0, train_pred_Y.max()), index=train_Y.index)\n",
    "test_pred_Y = pd.Series(test_pred_Y.clip(0, test_pred_Y.max()), index=test_Y.index)\n",
    "\n",
    "rmse_train = np.sqrt(mean_squared_error(train_pred_Y, train_Y))\n",
    "msle_train = mean_squared_log_error(train_pred_Y, train_Y)\n",
    "rmse_test = np.sqrt(mean_squared_error(test_pred_Y, test_Y))\n",
    "msle_test = mean_squared_log_error(test_pred_Y, test_Y)\n",
    "\n",
    "print('rmse_train:',rmse_train,'msle_train:',msle_train)\n",
    "print('rmse_test:',rmse_test,'msle_test:',msle_test)"
   ]
  },
  {
   "cell_type": "markdown",
   "id": "05068cd3",
   "metadata": {},
   "source": [
    "<a id='6-2'> 6.2 Visualization Of Results </a>\n",
    "\n",
    "To see how the model is doing, we can make scatter plot of prediction against ground truth. The model gives a resonable prediction, as the data points are gathering around the line y=x."
   ]
  },
  {
   "cell_type": "code",
   "execution_count": null,
   "id": "97143783",
   "metadata": {},
   "outputs": [],
   "source": [
    "plt.figure(figsize=(18,12))\n",
    "\n",
    "train_test_Y = train_Y.append(test_Y)\n",
    "train_test_pred_Y = train_pred_Y.append(test_pred_Y)\n",
    "\n",
    "data_shuffled = data.loc[train_test_Y.index]\n",
    "label = data_shuffled['Country']\n",
    "\n",
    "colors = {'ASIA (EX. NEAR EAST)         '      :'red',\n",
    "          'EASTERN EUROPE                     ':'orange',\n",
    "          'NORTHERN AFRICA                    ':'gold',\n",
    "          'OCEANIA                            ':'green',\n",
    "          'WESTERN EUROPE                     ':'blue',\n",
    "          'SUB-SAHARAN AFRICA                 ':'purple',\n",
    "          'LATIN AMER. & CARIB                ':'olive',\n",
    "          'C.W. OF IND. STATES                ':'cyan',\n",
    "          'NEAR EAST                          ':'hotpink',\n",
    "          'NORTHERN AMERICA                   ':'lightseagreen',\n",
    "          'BALTICS                            ':'rosybrown'}\n",
    "\n",
    "for region, color in colors.items():\n",
    "    X = train_test_Y.loc[data_shuffled['Region']==region]\n",
    "    Y = train_test_pred_Y.loc[data_shuffled['Region']==region]\n",
    "    ax = sns.regplot(x=X, y=Y, marker='.', fit_reg=False, color=color, scatter_kws={'s':200, 'linewidths':0}, label=region)\n",
    "plt.legend(loc=4,prop={'size': 12})\n",
    "\n",
    "ax.set_xlabel('GDP ($ per capita) ground truth',labelpad=40)\n",
    "ax.set_ylabel('GDP ($ per capita) predicted',labelpad=40)\n",
    "ax.xaxis.label.set_fontsize(24)\n",
    "ax.yaxis.label.set_fontsize(24)\n",
    "ax.tick_params(labelsize=12)\n",
    "\n",
    "x = np.linspace(-1000,50000,100) # 100 linearly spaced numbers\n",
    "y = x\n",
    "plt.plot(x,y,c='gray')\n",
    "\n",
    "plt.xlim(-1000,60000)\n",
    "plt.ylim(-1000,40000)\n",
    "\n",
    "for i in range(0,train_test_Y.shape[0]):\n",
    "    if((data_shuffled['Area (sq. mi.)'].iloc[i]>8e5) |\n",
    "       (data_shuffled['Population'].iloc[i]>1e8) |\n",
    "       (data_shuffled['GDP ($ per capita)'].iloc[i]>10000)):\n",
    "        plt.text(train_test_Y.iloc[i]+200, train_test_pred_Y.iloc[i]-200, label.iloc[i], size='small')"
   ]
  },
  {
   "cell_type": "markdown",
   "id": "c924c981",
   "metadata": {},
   "source": [
    "# <a id='7'>7. Total GDP</a>"
   ]
  },
  {
   "cell_type": "markdown",
   "id": "216eb159",
   "metadata": {},
   "source": [
    "<a id='7-1'>7.1 Top Countries</a>\n",
    "\n",
    "It is also interesting to look at the total GDPs, which I take as 'GDP ($ per capita)' × 'Population'.\n",
    "\n",
    "Here are the top 10 countries with highest total GDPs, their GDP make up to about 2/3 of the global GDP."
   ]
  },
  {
   "cell_type": "code",
   "execution_count": null,
   "id": "e3c87ad9",
   "metadata": {},
   "outputs": [],
   "source": [
    "data['Total_GDP ($)'] = data['GDP ($ per capita)'] * data['Population']\n",
    "#plt.figure(figsize=(16,6))\n",
    "top_gdp_countries = data.sort_values('Total_GDP ($)',ascending=False).head(10)\n",
    "other = pd.DataFrame({'Country':['Other'], 'Total_GDP ($)':[data['Total_GDP ($)'].sum() - top_gdp_countries['Total_GDP ($)'].sum()]})\n",
    "gdps = pd.concat([top_gdp_countries[['Country','Total_GDP ($)']],other],ignore_index=True)\n",
    "\n",
    "fig, axes = plt.subplots(nrows=1, ncols=2, figsize=(20,7),gridspec_kw = {'width_ratios':[2,1]})\n",
    "sns.barplot(x='Country',y='Total_GDP ($)',data=gdps,ax=axes[0],palette='Set3')\n",
    "axes[0].set_xlabel('Country',labelpad=30,fontsize=16)\n",
    "axes[0].set_ylabel('Total_GDP',labelpad=30,fontsize=16)\n",
    "\n",
    "colors = sns.color_palette(\"Set3\", gdps.shape[0]).as_hex()\n",
    "axes[1].pie(gdps['Total_GDP ($)'], labels=gdps['Country'],colors=colors,autopct='%1.1f%%',shadow=True)\n",
    "axes[1].axis('equal')\n",
    "plt.show()"
   ]
  },
  {
   "cell_type": "markdown",
   "id": "e311b888",
   "metadata": {},
   "source": [
    "Let's compare the above ten countries' rank in total GDP and GDP per capita."
   ]
  },
  {
   "cell_type": "code",
   "execution_count": null,
   "id": "af794256",
   "metadata": {},
   "outputs": [],
   "source": [
    "Rank1 = data[['Country','Total_GDP ($)']].sort_values('Total_GDP ($)', ascending=False).reset_index()\n",
    "Rank2 = data[['Country','GDP ($ per capita)']].sort_values('GDP ($ per capita)', ascending=False).reset_index()\n",
    "Rank1 = pd.Series(Rank1.index.values+1, index=Rank1.Country)\n",
    "Rank2 = pd.Series(Rank2.index.values+1, index=Rank2.Country)\n",
    "Rank_change = (Rank2-Rank1).sort_values(ascending=False)\n",
    "print('rank of total GDP - rank of GDP per capita:')\n",
    "Rank_change.loc[top_gdp_countries.Country]"
   ]
  },
  {
   "cell_type": "markdown",
   "id": "b0ccf5df",
   "metadata": {},
   "source": [
    "We see the countries with high total GDPs are quite different from those with high average GDPs.\n",
    "\n",
    "China and India jump above a lot when it comes to the total GDP.\n",
    "\n",
    "The only country that is with in top 10 (in fact top 2) for both total and average GDPs is the United States."
   ]
  },
  {
   "cell_type": "markdown",
   "id": "0c9928f3",
   "metadata": {},
   "source": [
    "<a id='7-2'>7.2 Factors Affecting Total GDP</a>\n",
    "\n",
    "We can also check the correlation between total GDP and the other columns. The top two factors are population and area, following many factors that have also been found mostly correlated to GDP per capita."
   ]
  },
  {
   "cell_type": "code",
   "execution_count": null,
   "id": "a43f1084",
   "metadata": {},
   "outputs": [],
   "source": [
    "corr_to_gdp = pd.Series()\n",
    "for col in data.columns.values[2:]:\n",
    "    if ((col!='Total_GDP ($)')&(col!='Climate')&(col!='GDP ($ per capita)')):\n",
    "        corr_to_gdp[col] = data['Total_GDP ($)'].corr(data[col])\n",
    "abs_corr_to_gdp = corr_to_gdp.abs().sort_values(ascending=False)\n",
    "corr_to_gdp = corr_to_gdp.loc[abs_corr_to_gdp.index]\n",
    "print(corr_to_gdp)"
   ]
  },
  {
   "cell_type": "markdown",
   "id": "f5f0cafc",
   "metadata": {},
   "source": [
    "<a id='7-3'>7.3 Comparision Of The Top 10</a>\n",
    "\n",
    "Finally, let us do a comparison of the enconomy structure for the ten countries with hightest total GDP."
   ]
  },
  {
   "cell_type": "code",
   "execution_count": null,
   "id": "c49c29c5",
   "metadata": {},
   "outputs": [],
   "source": [
    "plot_data = top_gdp_countries.head(10)[['Country','Agriculture', 'Industry', 'Service']]\n",
    "plot_data = plot_data.set_index('Country')\n",
    "ax = plot_data.plot.bar(stacked=True,figsize=(10,6))\n",
    "ax.legend(bbox_to_anchor=(1, 1))\n",
    "plt.show()"
   ]
  },
  {
   "cell_type": "code",
   "execution_count": null,
   "id": "fdff58f7",
   "metadata": {},
   "outputs": [],
   "source": [
    "Note: The graphs and visualizations (line charts, bar charts, scatter plots, heatmaps) generated during the GDP analysis are included below for reference."
   ]
  },
  {
   "cell_type": "markdown",
   "id": "3c8eabcb",
   "metadata": {},
   "source": [
    "![alt text](image.png)  \n",
    "![alt text](image-1.png)\n",
    "![alt text](image-2.png)\n",
    "![alt text](image-3.png)\n",
    "![alt text](image-4.png)\n",
    "![alt text](image-5.png)\n",
    "![alt text](image-6.png)"
   ]
  },
  {
   "cell_type": "markdown",
   "id": "38f36dec",
   "metadata": {},
   "source": [
    "As well as their land usage:"
   ]
  },
  {
   "cell_type": "code",
   "execution_count": null,
   "id": "75c6a096",
   "metadata": {},
   "outputs": [],
   "source": [
    "plot_data = top_gdp_countries[['Country','Arable (%)', 'Crops (%)', 'Other (%)']]\n",
    "plot_data = plot_data.set_index('Country')\n",
    "ax = plot_data.plot.bar(stacked=True,figsize=(10,6))\n",
    "ax.legend(bbox_to_anchor=(1, 1))\n",
    "plt.show()"
   ]
  },
  {
   "cell_type": "markdown",
   "id": "7a540197",
   "metadata": {},
   "source": [
    "<a id='8'>8. References</a>\n",
    "<ul>\n",
    "  <li><a href='https://docs.scipy.org/doc/numpy/'>Numpy</a></li>\n",
    "  <li><a href='https://pandas.pydata.org/'>Pandas</a></li>\n",
    "  <li><a href='https://matplotlib.org/'>Matplotlib</a></li>\n",
    "  <li><a href='https://seaborn.pydata.org/'>Seaborn</a></li>\n",
    "  <li><a href='https://scikit-learn.org'>Scikit-Learn</a></li>\n",
    "</ul>"
   ]
  }
 ],
 "metadata": {
  "kernelspec": {
   "display_name": "Python 3",
   "language": "python",
   "name": "python3"
  },
  "language_info": {
   "codemirror_mode": {
    "name": "ipython",
    "version": 3
   },
   "file_extension": ".py",
   "mimetype": "text/x-python",
   "name": "python",
   "nbconvert_exporter": "python",
   "pygments_lexer": "ipython3",
   "version": "3.11.9"
  }
 },
 "nbformat": 4,
 "nbformat_minor": 5
}
